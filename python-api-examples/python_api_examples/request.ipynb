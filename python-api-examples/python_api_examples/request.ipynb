{
 "cells": [
  {
   "cell_type": "code",
   "execution_count": 1,
   "metadata": {},
   "outputs": [],
   "source": [
    "import json\n",
    "from functools import lru_cache\n",
    "from typing import List\n",
    "\n",
    "import pandas as pd\n",
    "import requests\n",
    "from haversine import haversine\n",
    "from pydantic import BaseModel, conint, confloat\n",
    "from ratelimit import RateLimitException, limits\n",
    "from tenacity import *\n",
    "from yarl import URL\n",
    "\n",
    "from secrets import APP_ID, APP_KEY\n",
    "\n",
    "\n",
    "def get_id_key():\n",
    "    return {\"app_id\": APP_ID, \"app_key\": APP_KEY}"
   ]
  },
  {
   "cell_type": "code",
   "execution_count": 2,
   "metadata": {},
   "outputs": [],
   "source": [
    "@retry(\n",
    "    wait=wait_exponential(max=60, min=1),\n",
    "    stop=stop_after_attempt(3),\n",
    ")\n",
    "@retry(\n",
    "    retry=retry_if_exception_type(RateLimitException),\n",
    "    wait=wait_fixed(1),\n",
    "    stop=stop_after_delay(60),\n",
    ")\n",
    "@limits(calls=500, period=60)\n",
    "def call_get(url: URL) -> str:\n",
    "    \"\"\"\n",
    "    Make a generic call to the TfL API. This function handles rate limits and retries,\n",
    "    as well as ensuring that the API call has the app_id and app_key appended to the\n",
    "    call.\n",
    "\n",
    "    :param url: URL to make a GET request on for the TfL API\n",
    "    :return: decoded string of response\n",
    "    \"\"\"\n",
    "    return requests.get(url.update_query(get_id_key())).text"
   ]
  },
  {
   "cell_type": "code",
   "execution_count": 3,
   "metadata": {},
   "outputs": [
    {
     "data": {
      "text/plain": [
       "['bakerloo',\n",
       " 'central',\n",
       " 'circle',\n",
       " 'district',\n",
       " 'hammersmith-city',\n",
       " 'jubilee',\n",
       " 'metropolitan',\n",
       " 'northern',\n",
       " 'piccadilly',\n",
       " 'victoria',\n",
       " 'waterloo-city']"
      ]
     },
     "execution_count": 3,
     "metadata": {},
     "output_type": "execute_result"
    }
   ],
   "source": [
    "API_ENDPOINT = URL(\"https://api.tfl.gov.uk/\")\n",
    "\n",
    "\n",
    "@lru_cache()\n",
    "def tube_line_ids() -> List[str]:\n",
    "    \"\"\"\n",
    "    Get a list of all tube line ids, these can then be used to call endpoints\n",
    "    of \"Line\" / line_id for line_id in this list; after the first call this data\n",
    "    is cached in memory.\n",
    "\n",
    "    :return: list of string line_ids e.g. \"victoria\"\n",
    "    \"\"\"\n",
    "    return [\n",
    "        item[\"id\"]\n",
    "        for item in json.loads(\n",
    "            call_get(API_ENDPOINT / \"Line\" / \"Mode\" / \"tube\" / \"Route\")\n",
    "        )\n",
    "    ]\n",
    "\n",
    "tube_line_ids()"
   ]
  },
  {
   "cell_type": "code",
   "execution_count": 4,
   "metadata": {},
   "outputs": [],
   "source": [
    "class LineStopPointInfo(BaseModel):\n",
    "    name: str\n",
    "    distance: confloat(ge=0)  # from the centre of London, (51.509865, -0.118092)\n",
    "    connections: conint(ge=0)"
   ]
  },
  {
   "cell_type": "code",
   "execution_count": 34,
   "metadata": {},
   "outputs": [],
   "source": [
    "def parse_result(result) -> LineStopPointInfo:\n",
    "    \"\"\"\n",
    "    Apply our domain-specific parsing logic to an element of the /Line/line_id/StopPoints\n",
    "    TfL API call, where line_id is the id of a tube line e.g. \"victoria\".\n",
    "\n",
    "    :param result: dictionary representing a single result\n",
    "    :return: parsed LineStopPointInfo objects\n",
    "    \"\"\"\n",
    "    return LineStopPointInfo(\n",
    "        name=result[\"commonName\"],\n",
    "        distance=haversine((51.509865, -0.118092), (result[\"lat\"], result[\"lon\"])),\n",
    "        connections=len(\n",
    "            [\n",
    "                item[\"id\"]\n",
    "                for item in result.get(\"lines\", [])\n",
    "                if item[\"id\"] in tube_line_ids()\n",
    "            ]\n",
    "        ) - 1,  # one result is always for the given line,\n",
    "    )"
   ]
  },
  {
   "cell_type": "code",
   "execution_count": 35,
   "metadata": {},
   "outputs": [],
   "source": [
    "def line_stop_points(line_id: str) -> List[LineStopPointInfo]:\n",
    "    \"\"\"\n",
    "    For a give tube line, get a list of stop points, and apply domain-specific parsing logic to get\n",
    "    a list of LineStopPointInfo objects.\n",
    "\n",
    "    :param line_id: string line id e.g. \"victoria\"\n",
    "    :return: list of parsed LineStopPointInfo objects\n",
    "    \"\"\"\n",
    "    return [\n",
    "        parse_result(result)\n",
    "        for result in json.loads(\n",
    "            call_get(API_ENDPOINT / \"Line\" / line_id / \"StopPoints\")\n",
    "        )\n",
    "    ]"
   ]
  },
  {
   "cell_type": "code",
   "execution_count": 36,
   "metadata": {},
   "outputs": [],
   "source": [
    "def line_stop_df(line_id: str) -> pd.DataFrame:\n",
    "    \"\"\"\n",
    "    For a given tube line, get the results of line_stop_points and convert into a pandas DataFrame\n",
    "    with columns name, distance (from the centre of London) and (number of) connections.\n",
    "\n",
    "    :param line_id: string line id e.g. \"victoria\"\n",
    "    :return: parsed DataFrame with columns name, distance and connections\n",
    "    \"\"\"\n",
    "    return pd.DataFrame([item.dict() for item in line_stop_points(line_id)])"
   ]
  },
  {
   "cell_type": "code",
   "execution_count": 37,
   "metadata": {},
   "outputs": [],
   "source": [
    "df = pd.concat([line_stop_df(line) for line in tube_line_ids()])"
   ]
  },
  {
   "cell_type": "code",
   "execution_count": 38,
   "metadata": {},
   "outputs": [
    {
     "data": {
      "text/html": [
       "<div>\n",
       "<style scoped>\n",
       "    .dataframe tbody tr th:only-of-type {\n",
       "        vertical-align: middle;\n",
       "    }\n",
       "\n",
       "    .dataframe tbody tr th {\n",
       "        vertical-align: top;\n",
       "    }\n",
       "\n",
       "    .dataframe thead th {\n",
       "        text-align: right;\n",
       "    }\n",
       "</style>\n",
       "<table border=\"1\" class=\"dataframe\">\n",
       "  <thead>\n",
       "    <tr style=\"text-align: right;\">\n",
       "      <th></th>\n",
       "      <th>connections</th>\n",
       "      <th>distance</th>\n",
       "      <th>name</th>\n",
       "    </tr>\n",
       "  </thead>\n",
       "  <tbody>\n",
       "    <tr>\n",
       "      <th>6</th>\n",
       "      <td>5</td>\n",
       "      <td>2.339422</td>\n",
       "      <td>King's Cross St. Pancras Underground Station</td>\n",
       "    </tr>\n",
       "    <tr>\n",
       "      <th>13</th>\n",
       "      <td>0</td>\n",
       "      <td>6.681326</td>\n",
       "      <td>Clapham South Underground Station</td>\n",
       "    </tr>\n",
       "    <tr>\n",
       "      <th>7</th>\n",
       "      <td>0</td>\n",
       "      <td>15.903542</td>\n",
       "      <td>Kenton Underground Station</td>\n",
       "    </tr>\n",
       "    <tr>\n",
       "      <th>10</th>\n",
       "      <td>0</td>\n",
       "      <td>25.965326</td>\n",
       "      <td>Epping Underground Station</td>\n",
       "    </tr>\n",
       "    <tr>\n",
       "      <th>37</th>\n",
       "      <td>0</td>\n",
       "      <td>13.706469</td>\n",
       "      <td>Richmond Underground Station</td>\n",
       "    </tr>\n",
       "    <tr>\n",
       "      <th>0</th>\n",
       "      <td>1</td>\n",
       "      <td>2.974545</td>\n",
       "      <td>Aldgate Underground Station</td>\n",
       "    </tr>\n",
       "    <tr>\n",
       "      <th>6</th>\n",
       "      <td>1</td>\n",
       "      <td>12.149533</td>\n",
       "      <td>East Ham Underground Station</td>\n",
       "    </tr>\n",
       "    <tr>\n",
       "      <th>11</th>\n",
       "      <td>0</td>\n",
       "      <td>13.892075</td>\n",
       "      <td>Kingsbury Underground Station</td>\n",
       "    </tr>\n",
       "    <tr>\n",
       "      <th>48</th>\n",
       "      <td>0</td>\n",
       "      <td>11.307997</td>\n",
       "      <td>West Acton Underground Station</td>\n",
       "    </tr>\n",
       "    <tr>\n",
       "      <th>13</th>\n",
       "      <td>0</td>\n",
       "      <td>2.715412</td>\n",
       "      <td>Vauxhall Underground Station</td>\n",
       "    </tr>\n",
       "  </tbody>\n",
       "</table>\n",
       "</div>"
      ],
      "text/plain": [
       "    connections   distance                                          name\n",
       "6             5   2.339422  King's Cross St. Pancras Underground Station\n",
       "13            0   6.681326             Clapham South Underground Station\n",
       "7             0  15.903542                    Kenton Underground Station\n",
       "10            0  25.965326                    Epping Underground Station\n",
       "37            0  13.706469                  Richmond Underground Station\n",
       "0             1   2.974545                   Aldgate Underground Station\n",
       "6             1  12.149533                  East Ham Underground Station\n",
       "11            0  13.892075                 Kingsbury Underground Station\n",
       "48            0  11.307997                West Acton Underground Station\n",
       "13            0   2.715412                  Vauxhall Underground Station"
      ]
     },
     "execution_count": 38,
     "metadata": {},
     "output_type": "execute_result"
    }
   ],
   "source": [
    "df.sample(10)"
   ]
  },
  {
   "cell_type": "code",
   "execution_count": 39,
   "metadata": {},
   "outputs": [],
   "source": [
    "from matplotlib import pyplot as plt\n",
    "import seaborn as sns\n",
    "\n",
    "%matplotlib inline"
   ]
  },
  {
   "cell_type": "code",
   "execution_count": 40,
   "metadata": {},
   "outputs": [],
   "source": [
    "sns.set_theme(style=\"whitegrid\")\n",
    "sns.set(rc={'figure.figsize':(10,6)})"
   ]
  },
  {
   "cell_type": "code",
   "execution_count": 41,
   "metadata": {},
   "outputs": [
    {
     "data": {
      "image/png": "[encoded data removed]",
      "text/plain": [
       "<Figure size 720x432 with 1 Axes>"
      ]
     },
     "metadata": {},
     "output_type": "display_data"
    }
   ],
   "source": [
    "plot = sns.boxenplot(\n",
    "    x=\"connections\",\n",
    "    y=\"distance\",\n",
    "    color=\"b\", \n",
    "    scale=\"linear\",\n",
    "    data=df,\n",
    ")"
   ]
  },
  {
   "cell_type": "code",
   "execution_count": 42,
   "metadata": {},
   "outputs": [],
   "source": [
    "plot.figure.savefig('figure.png')"
   ]
  },
  {
   "cell_type": "code",
   "execution_count": null,
   "metadata": {},
   "outputs": [],
   "source": []
  },
  {
   "cell_type": "code",
   "execution_count": null,
   "metadata": {},
   "outputs": [],
   "source": []
  }
 ],
 "metadata": {
  "kernelspec": {
   "display_name": "Python 3",
   "language": "python",
   "name": "python3"
  },
  "language_info": {
   "codemirror_mode": {
    "name": "ipython",
    "version": 3
   },
   "file_extension": ".py",
   "mimetype": "text/x-python",
   "name": "python",
   "nbconvert_exporter": "python",
   "pygments_lexer": "ipython3",
   "version": "3.7.7"
  }
 },
 "nbformat": 4,
 "nbformat_minor": 2
}
